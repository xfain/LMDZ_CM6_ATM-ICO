{
 "cells": [
  {
   "cell_type": "markdown",
   "metadata": {},
   "source": [
    "# LMDZ CM6 ICO : SNOW DURATION \n",
    "#### https://forge.ipsl.jussieu.fr/igcmg/wiki/IPSLCM6/IPSL-CM6A-ATM-ICO"
   ]
  },
  {
   "cell_type": "code",
   "execution_count": 1,
   "metadata": {},
   "outputs": [],
   "source": [
    "import xarray as xr\n",
    "import pandas as pd\n",
    "import numpy as np\n",
    "import matplotlib.pyplot as plt\n",
    "import proplot as plot # New plot library (https://proplot.readthedocs.io/en/latest/)\n",
    "plot.rc['savefig.dpi'] = 300 # 1200 is too big! #https://proplot.readthedocs.io/en/latest/basics.html#Creating-figures\n",
    "from scipy import stats\n",
    "import xesmf as xe # For regridding (https://xesmf.readthedocs.io/en/latest/)\n",
    "from pathlib import Path\n",
    "import calendar as cal"
   ]
  },
  {
   "cell_type": "markdown",
   "metadata": {},
   "source": [
    "import xarray as xr\n",
    "import pandas as pd\n",
    "import numpy as np\n",
    "import matplotlib.pyplot as plt\n",
    "import proplot as plot # New plot library (https://proplot.readthedocs.io/en/latest/)\n",
    "plot.rc['savefig.dpi'] = 300 # 1200 is too big! #https://proplot.readthedocs.io/en/latest/basics.html#Creating-figures\n",
    "from scipy import stats\n",
    "import xesmf as xe # For regridding (https://xesmf.readthedocs.io/en/latest/)"
   ]
  },
  {
   "cell_type": "code",
   "execution_count": 2,
   "metadata": {},
   "outputs": [
    {
     "data": {
      "text/html": [
       "<table style=\"border: 2px solid white;\">\n",
       "<tr>\n",
       "<td style=\"vertical-align: top; border: 0px solid white\">\n",
       "<h3 style=\"text-align: left;\">Client</h3>\n",
       "<ul style=\"text-align: left; list-style: none; margin: 0; padding: 0;\">\n",
       "  <li><b>Scheduler: </b>tcp://127.0.0.1:43177</li>\n",
       "  <li><b>Dashboard: </b><a href='http://127.0.0.1:8787/status' target='_blank'>http://127.0.0.1:8787/status</a></li>\n",
       "</ul>\n",
       "</td>\n",
       "<td style=\"vertical-align: top; border: 0px solid white\">\n",
       "<h3 style=\"text-align: left;\">Cluster</h3>\n",
       "<ul style=\"text-align: left; list-style:none; margin: 0; padding: 0;\">\n",
       "  <li><b>Workers: </b>4</li>\n",
       "  <li><b>Cores: </b>16</li>\n",
       "  <li><b>Memory: </b>68.72 GB</li>\n",
       "</ul>\n",
       "</td>\n",
       "</tr>\n",
       "</table>"
      ],
      "text/plain": [
       "<Client: 'tcp://127.0.0.1:43177' processes=4 threads=16, memory=68.72 GB>"
      ]
     },
     "execution_count": 2,
     "metadata": {},
     "output_type": "execute_result"
    }
   ],
   "source": [
    "# For parallelisation\n",
    "from dask.distributed import Client\n",
    "client = Client()\n",
    "client"
   ]
  },
  {
   "cell_type": "code",
   "execution_count": 3,
   "metadata": {},
   "outputs": [],
   "source": [
    "# Define zone : ALPS\n",
    "latlim=(43.5,48.5) \n",
    "lonlim=(5,16.5)\n",
    "\n",
    "# Make a extended version for regridding properly on the edges\n",
    "latlim_ext = (latlim[0]-5, latlim[-1]+5)\n",
    "lonlim_ext = (lonlim[0]-5, lonlim[-1]+5)\n",
    "\n",
    "list_var = ['tas', 'pr', 'snc']\n",
    "list_res = ['lr', 'mr', 'hr', 'vhr']"
   ]
  },
  {
   "cell_type": "markdown",
   "metadata": {},
   "source": [
    "# INPUTS"
   ]
  },
  {
   "cell_type": "markdown",
   "metadata": {},
   "source": [
    "## 1. Load Observations"
   ]
  },
  {
   "cell_type": "markdown",
   "metadata": {},
   "source": [
    "#### 1.1. ECAD Temperature"
   ]
  },
  {
   "cell_type": "code",
   "execution_count": 4,
   "metadata": {},
   "outputs": [],
   "source": [
    "# OPEN ECAD temperature dataset for the first time : MERGE ET Monthly-Average\n",
    "# file_name_ecad = 'tg_ens_mean_0.1deg_reg_v27.0e.nc'\n",
    "# folder_name_ecad = '/data/xfain/ECAD'\n",
    "\n",
    "# ds_temp= xr.open_mfdataset(folder_name_ecad + '/' + file_name_ecad, parallel=True).sel(latitude=slice(latlim_ext[0],latlim_ext[1]),longitude=slice(lonlim_ext[0],lonlim_ext[1])).tg.load()\n",
    "# ds_temp = ds_temp.rename({'latitude': 'lat','longitude': 'lon'})\n",
    "# ds_temp_mon = ds_temp.resample(time='M').mean()\n",
    "\n",
    "# SAVE Monthly Processed ECAD Temperature dataset for Alpine area only\n",
    "#ds_temp_mon.to_netcdf('/data/xfain/ECAD/tg_ens_mean_0.1deg_reg_v27.0e_monthly.nc')"
   ]
  },
  {
   "cell_type": "code",
   "execution_count": 5,
   "metadata": {},
   "outputs": [],
   "source": [
    "# OPEN ECAD temperature dataset PreProcessed at MONTHLY Resolution\n",
    "\n",
    "file_name_ecad_monthly = 'tg_ens_mean_0.1deg_reg_v27.0e_monthly.nc'\n",
    "folder_name_ecad = '/data/xfain/ECAD/'\n",
    "\n",
    "ds_temp_mon= xr.open_mfdataset(folder_name_ecad + '/' + file_name_ecad_monthly).tg.load()"
   ]
  },
  {
   "cell_type": "markdown",
   "metadata": {},
   "source": [
    "#### 1.2. SNOW-CCI datasets"
   ]
  },
  {
   "cell_type": "code",
   "execution_count": 6,
   "metadata": {},
   "outputs": [],
   "source": [
    "# OPEN Snow-CCI datasets\n",
    "folder_name_ESA_CCI_SNOW = '/data/xfain/ESA_CCI_SNOW/preprocess/scfg/AVHRR_MERGED/v2.0/'#monthly_0.25deg/'\n",
    "ds_025 = xr.open_mfdataset(folder_name_ESA_CCI_SNOW + 'monthly_0.25deg'+'/*.nc', combine='by_coords', parallel=True)\n",
    "ds_050 = xr.open_mfdataset(folder_name_ESA_CCI_SNOW + 'monthly_0.5deg'+'/*.nc', combine='by_coords', parallel=True)\n",
    "ds_100 = xr.open_mfdataset(folder_name_ESA_CCI_SNOW + 'monthly_1deg'+'/*.nc', combine='by_coords', parallel=True)\n",
    "ds_raw = xr.open_mfdataset(folder_name_ESA_CCI_SNOW + 'monthly'+'/*.nc', combine='by_coords', parallel=True)\n",
    "# Available résolution GapFilled (directory): monthly_0.1deg  monthly_0.25deg  monthly_0.5deg  monthly_1deg\n",
    "# AW DATA before GapFilling: /data/xfain/ESA_CCI_SNOW/preprocess/scfg/AVHRR_MERGED/v2.0/monthly$"
   ]
  },
  {
   "cell_type": "code",
   "execution_count": 7,
   "metadata": {},
   "outputs": [],
   "source": [
    "# CORRECTIONS sur SNOW-CCI data (M. Lalalande)\n",
    "# Les données d'octobre 1994 sont à ignorer\n",
    "# Celles de Nov 94 => Janv 95 inéxistantes, et il faut créer des index de NaN\n",
    "\n",
    "snow_cci_interp_025 = ds_025['scfg_interp_0.25deg_icefilled']\n",
    "snow_cci_interp_050 = ds_050['scfg_interp_0.5deg_icefilled']\n",
    "snow_cci_interp_100 = ds_100['scfg_interp_1deg_icefilled']\n",
    "snow_cci_raw = ds_raw['scfg_interp']\n",
    "\n",
    "# reindex to add dates from nov 1994 to jan 1995\n",
    "snow_cci_interp_025 = snow_cci_interp_025.reindex(time=pd.date_range('1982-01-31T00:00:00.000000000', '2014-12-31T00:00:00.000000000', freq='M'))  # to adapt to your period (import pandas as pd before)\n",
    "snow_cci_interp_025.load()\n",
    "snow_cci_interp_050 = snow_cci_interp_050.reindex(time=pd.date_range('1982-01-31T00:00:00.000000000', '2014-12-31T00:00:00.000000000', freq='M'))  # to adapt to your period (import pandas as pd before)\n",
    "snow_cci_interp_050.load()\n",
    "snow_cci_interp_100 = snow_cci_interp_100.reindex(time=pd.date_range('1982-01-31T00:00:00.000000000', '2014-12-31T00:00:00.000000000', freq='M'))  # to adapt to your period (import pandas as pd before)\n",
    "snow_cci_interp_100.load()\n",
    "\n",
    " \n",
    "# set to nan all values from '1994-10' because of too much missing values leading to wrong spatial average\n",
    "snow_cci_interp_025.loc['1994-10'] = snow_cci_interp_025.loc['1994-11'].values #snow_cci_interp.loc['1994-11'].values are nan because no values\n",
    "snow_cci_interp_050.loc['1994-10'] = snow_cci_interp_050.loc['1994-11'].values\n",
    "snow_cci_interp_100.loc['1994-10'] = snow_cci_interp_100.loc['1994-11'].values"
   ]
  },
  {
   "cell_type": "code",
   "execution_count": 8,
   "metadata": {},
   "outputs": [],
   "source": [
    "snc_025= snow_cci_interp_025.sel(lat=slice(latlim_ext[0],latlim_ext[1]),lon=slice(lonlim_ext[0],lonlim_ext[1])).load()\n",
    "snc_050= snow_cci_interp_050.sel(lat=slice(latlim_ext[0],latlim_ext[1]),lon=slice(lonlim_ext[0],lonlim_ext[1])).load()\n",
    "snc_100= snow_cci_interp_100.sel(lat=slice(latlim_ext[0],latlim_ext[1]),lon=slice(lonlim_ext[0],lonlim_ext[1])).load()\n",
    "snc_raw = snow_cci_raw.sel(lat=slice(latlim_ext[0],latlim_ext[1]),lon=slice(lonlim_ext[0],lonlim_ext[1])).load()\n",
    "snc_list =[snc_025,snc_050,snc_100]"
   ]
  },
  {
   "cell_type": "markdown",
   "metadata": {},
   "source": [
    "## 2. Load Model outputs"
   ]
  },
  {
   "cell_type": "code",
   "execution_count": 9,
   "metadata": {},
   "outputs": [],
   "source": [
    "# Directory where LMDZ extracted output data are saved\n",
    "ldmz_output_path='/data/xfain/LMDZ_CM6_ICO'"
   ]
  },
  {
   "cell_type": "code",
   "execution_count": 10,
   "metadata": {},
   "outputs": [],
   "source": [
    "#List LR files # Monthly resolution\n",
    "file_name_lr_tas = 'tas_Amon_IPSL-CM6A-ATM-ICO-LR_highresSST-present_r1i1p1f1_gr_*.nc'\n",
    "file_name_lr_pr = 'pr_Amon_IPSL-CM6A-ATM-ICO-LR_highresSST-present_r1i1p1f1_gr_*.nc'\n",
    "file_name_lr_snc = 'snc_LImon_IPSL-CM6A-ATM-ICO-LR_highresSST-present_r1i1p1f1_gr_*.nc'\n",
    "folder_name_LR_ATM = '/thredds/tgcc/work/p86caub/ICOLMDZOR/PROD/highresSST-present/CM6-ICO-LR-01.sponge.run.01/CMIP6/ATM'\n",
    "folder_name_LR_SRF = '/thredds/tgcc/work/p86caub/ICOLMDZOR/PROD/highresSST-present/CM6-ICO-LR-01.sponge.run.01/CMIP6/SRF'"
   ]
  },
  {
   "cell_type": "code",
   "execution_count": 11,
   "metadata": {},
   "outputs": [],
   "source": [
    "#List MR files # Monthly resolution\n",
    "file_name_mr_tas = 'tas_Amon_IPSL-CM6A-ATM-ICO-MR_highresSST-present_r1i1p1f1_gr_*.nc'\n",
    "file_name_mr_pr = 'pr_Amon_IPSL-CM6A-ATM-ICO-MR_highresSST-present_r1i1p1f1_gr_*.nc'\n",
    "file_name_mr_snc = 'snc_LImon_IPSL-CM6A-ATM-ICO-MR_highresSST-present_r1i1p1f1_gr_*.nc'\n",
    "folder_name_MR_ATM = '/thredds/tgcc/work/p86caub/ICOLMDZOR/PROD/highresSST-present/CM6-ICO-MR-01.sponge.run.01/CMIP6/ATM'\n",
    "folder_name_MR_SRF = '/thredds/tgcc/work/p86caub/ICOLMDZOR/PROD/highresSST-present/CM6-ICO-MR-01.sponge.run.01/CMIP6/SRF'"
   ]
  },
  {
   "cell_type": "code",
   "execution_count": 12,
   "metadata": {},
   "outputs": [],
   "source": [
    "#List HR files # Monthly resolution\n",
    "file_name_hr_tas = 'tas_Amon_IPSL-CM6A-ATM-ICO-HR_highresSST-present_r1i1p1f1_gr_*.nc'\n",
    "file_name_hr_pr = 'pr_Amon_IPSL-CM6A-ATM-ICO-HR_highresSST-present_r1i1p1f1_gr_*.nc'\n",
    "file_name_hr_snc = 'snc_LImon_IPSL-CM6A-ATM-ICO-HR_highresSST-present_r1i1p1f1_gr_*.nc'\n",
    "folder_name_HR_ATM = '/thredds/tgcc/work/p86caub/ICOLMDZOR/PROD/highresSST-present/CM6-ICO-HR.sponge.run.01/CMIP6/ATM'\n",
    "folder_name_HR_SRF = '/thredds/tgcc/work/p86caub/ICOLMDZOR/PROD/highresSST-present/CM6-ICO-HR.sponge.run.01/CMIP6/SRF'"
   ]
  },
  {
   "cell_type": "code",
   "execution_count": 13,
   "metadata": {},
   "outputs": [],
   "source": [
    "#List VHR files # Monthly resolution\n",
    "file_name_vhr_tas = 'tas_Amon_IPSL-CM6A-ATM-ICO-VHR_highresSST-present_r1i1p1f1_gr_*.nc'\n",
    "file_name_vhr_pr = 'pr_Amon_IPSL-CM6A-ATM-ICO-VHR_highresSST-present_r1i1p1f1_gr_*.nc'\n",
    "file_name_vhr_snc = 'snc_LImon_IPSL-CM6A-ATM-ICO-VHR_highresSST-present_r1i1p1f1_gr_*.nc'\n",
    "folder_name_VHR_ATM = '/thredds/tgcc/work/p86caub/ICOLMDZOR/PROD/highresSST-present/CM6-ICO-VHR.sponge.run.01/CMIP6/ATM'\n",
    "folder_name_VHR_SRF = '/thredds/tgcc/work/p86caub/ICOLMDZOR/PROD/highresSST-present/CM6-ICO-VHR.sponge.run.01/CMIP6/SRF'"
   ]
  },
  {
   "cell_type": "code",
   "execution_count": 14,
   "metadata": {},
   "outputs": [
    {
     "name": "stdout",
     "output_type": "stream",
     "text": [
      "The file /data/xfain/LMDZ_CM6_ICO/ds_lr_tas.nc already exists\n",
      "The file /data/xfain/LMDZ_CM6_ICO/ds_lr_pr.nc already exists\n",
      "The file /data/xfain/LMDZ_CM6_ICO/ds_lr_snc.nc already exists\n"
     ]
    }
   ],
   "source": [
    "#Open and combine all LR dataset\n",
    "path_tas = Path(ldmz_output_path+'/ds_lr_tas.nc')\n",
    "path_pr = Path(ldmz_output_path+'/ds_lr_pr.nc')\n",
    "path_snc = Path(ldmz_output_path+'/ds_lr_snc.nc')\n",
    "\n",
    "if path_tas.is_file():\n",
    "    print(f'The file {path_tas} already exists')\n",
    "    ds_lr_tas = xr.open_mfdataset(ldmz_output_path+'/ds_lr_tas.nc', parallel=True).tas.load()\n",
    "else:\n",
    "    print(f'The file {path_tas} does not exist')\n",
    "    print(f'Extracting the LR TAS data')\n",
    "    ds_lr_tas= xr.open_mfdataset(folder_name_LR_ATM + '/' + file_name_lr_tas, concat_dim ='time', combine='by_coords', parallel=True).sel(lat=slice(latlim_ext[0],latlim_ext[1]),lon=slice(lonlim_ext[0],lonlim_ext[1])).tas.load()\n",
    "    ds_lr_tas.to_netcdf(ldmz_output_path+'/ds_lr_tas.nc')\n",
    "   \n",
    "if path_pr.is_file():\n",
    "    print(f'The file {path_pr} already exists')\n",
    "    ds_lr_pr = xr.open_mfdataset(ldmz_output_path+'/ds_lr_pr.nc', parallel=True).pr.load()\n",
    "else:\n",
    "    print(f'The file {path_pr} does not exist')\n",
    "    print(f'Extracting the LR PR data')\n",
    "    ds_lr_pr= xr.open_mfdataset(folder_name_LR_ATM + '/' + file_name_lr_pr, concat_dim ='time', combine='by_coords', parallel=True).sel(lat=slice(latlim_ext[0],latlim_ext[1]),lon=slice(lonlim_ext[0],lonlim_ext[1])).pr.load()\n",
    "    ds_lr_pr.to_netcdf(ldmz_output_path+'/ds_lr_pr.nc')\n",
    "\n",
    "if path_snc.is_file():\n",
    "    print(f'The file {path_snc} already exists')\n",
    "    ds_lr_snc = xr.open_mfdataset(ldmz_output_path+'/ds_lr_snc.nc', parallel=True).snc.load()\n",
    "else:\n",
    "    print(f'The file {path_snc} does not exist')\n",
    "    print(f'Extracting the LR SNC data')\n",
    "    ds_lr_snc= xr.open_mfdataset(folder_name_LR_SRF + '/' + file_name_lr_snc, concat_dim ='time', combine='by_coords', parallel=True).sel(lat=slice(latlim_ext[0],latlim_ext[1]),lon=slice(lonlim_ext[0],lonlim_ext[1])).snc.load()\n",
    "    ds_lr_snc.to_netcdf(ldmz_output_path+'/ds_lr_snc.nc')"
   ]
  },
  {
   "cell_type": "code",
   "execution_count": 15,
   "metadata": {},
   "outputs": [
    {
     "name": "stdout",
     "output_type": "stream",
     "text": [
      "The MR TAS file /data/xfain/LMDZ_CM6_ICO/ds_mr_tas.nc already exists\n",
      "The  file /data/xfain/LMDZ_CM6_ICO/ds_mr_pr.nc already exists\n",
      "The file /data/xfain/LMDZ_CM6_ICO/ds_mr_snc.nc already exists\n"
     ]
    }
   ],
   "source": [
    "#Open and combine all MR dataset\n",
    "path_tas = Path(ldmz_output_path+'/ds_mr_tas.nc')\n",
    "path_pr = Path(ldmz_output_path+'/ds_mr_pr.nc')\n",
    "path_snc = Path(ldmz_output_path+'/ds_mr_snc.nc')\n",
    "\n",
    "if path_tas.is_file():\n",
    "    print(f'The MR TAS file {path_tas} already exists')\n",
    "    ds_mr_tas = xr.open_mfdataset(ldmz_output_path+'/ds_mr_tas.nc', parallel=True).tas.load()\n",
    "else:\n",
    "    print(f'The file {path_tas} does not exist')\n",
    "    print(f'Extracting the MR TAS data')\n",
    "    ds_mr_tas= xr.open_mfdataset(folder_name_MR_ATM + '/' + file_name_mr_tas, concat_dim ='time', combine='by_coords', parallel=True).sel(lat=slice(latlim_ext[0],latlim_ext[1]),lon=slice(lonlim_ext[0],lonlim_ext[1])).tas.load()\n",
    "    ds_mr_tas.to_netcdf(ldmz_output_path+'/ds_mr_tas.nc')\n",
    "    \n",
    "if path_pr.is_file():\n",
    "    print(f'The  file {path_pr} already exists')\n",
    "    ds_mr_pr = xr.open_mfdataset(ldmz_output_path+'/ds_mr_pr.nc', parallel=True).pr.load()\n",
    "else:\n",
    "    print(f'The file {path_pr} does not exist')\n",
    "    print(f'Extracting the MR PR data')\n",
    "    ds_mr_pr= xr.open_mfdataset(folder_name_MR_ATM + '/' + file_name_mr_pr, concat_dim ='time', combine='by_coords', parallel=True).sel(lat=slice(latlim_ext[0],latlim_ext[1]),lon=slice(lonlim_ext[0],lonlim_ext[1])).pr.load()\n",
    "    ds_mr_pr.to_netcdf(ldmz_output_path+'/ds_mr_pr.nc')\n",
    "    \n",
    "if path_snc.is_file():\n",
    "    print(f'The file {path_snc} already exists')\n",
    "    ds_mr_snc = xr.open_mfdataset(ldmz_output_path+'/ds_mr_snc.nc', parallel=True).snc.load()\n",
    "else:\n",
    "    print(f'The file {path_snc} does not exist')\n",
    "    print(f'Extracting the MR SNC data')\n",
    "    ds_mr_snc= xr.open_mfdataset(folder_name_MR_SRF + '/' + file_name_mr_snc, concat_dim ='time', combine='by_coords', parallel=True).sel(lat=slice(latlim_ext[0],latlim_ext[1]),lon=slice(lonlim_ext[0],lonlim_ext[1])).snc.load()\n",
    "    ds_mr_snc.to_netcdf(ldmz_output_path+'/ds_mr_snc.nc')"
   ]
  },
  {
   "cell_type": "code",
   "execution_count": 16,
   "metadata": {},
   "outputs": [
    {
     "name": "stdout",
     "output_type": "stream",
     "text": [
      "The file /data/xfain/LMDZ_CM6_ICO/ds_hr_tas.nc already exists\n",
      "The file /data/xfain/LMDZ_CM6_ICO/ds_hr_pr.nc already exists\n",
      "The file /data/xfain/LMDZ_CM6_ICO/ds_hr_snc.nc already exists\n"
     ]
    }
   ],
   "source": [
    "#Open and combine all HR dataset\n",
    "path_tas = Path(ldmz_output_path+'/ds_hr_tas.nc')\n",
    "path_pr = Path(ldmz_output_path+'/ds_hr_pr.nc')\n",
    "path_snc = Path(ldmz_output_path+'/ds_hr_snc.nc')\n",
    "\n",
    "if path_tas.is_file():\n",
    "    print(f'The file {path_tas} already exists')\n",
    "    ds_hr_tas = xr.open_mfdataset(ldmz_output_path+'/ds_hr_tas.nc', parallel=True).tas.load()\n",
    "else:\n",
    "    print(f'The HR file {path_tas} does not exist')\n",
    "    print(f'Extracting the HR TAS data')\n",
    "    ds_hr_tas= xr.open_mfdataset(folder_name_HR_ATM + '/' + file_name_hr_tas, concat_dim ='time', combine='by_coords', parallel=True).sel(lat=slice(latlim_ext[0],latlim_ext[1]),lon=slice(lonlim_ext[0],lonlim_ext[1])).tas.load()\n",
    "    ds_hr_tas.to_netcdf(ldmz_output_path+'/ds_hr_tas.nc')\n",
    "    \n",
    "if path_pr.is_file():\n",
    "    print(f'The file {path_pr} already exists')\n",
    "    ds_hr_pr = xr.open_mfdataset(ldmz_output_path+'/ds_hr_pr.nc', parallel=True).pr.load()\n",
    "else:\n",
    "    print(f'The file {path_pr} does not exist')\n",
    "    print(f'Extracting the HR PR data')\n",
    "    ds_hr_pr= xr.open_mfdataset(folder_name_HR_ATM + '/' + file_name_hr_pr, concat_dim ='time', combine='by_coords', parallel=True).sel(lat=slice(latlim_ext[0],latlim_ext[1]),lon=slice(lonlim_ext[0],lonlim_ext[1])).pr.load()\n",
    "    ds_hr_pr.to_netcdf(ldmz_output_path+'/ds_hr_pr.nc')\n",
    "    \n",
    "if path_snc.is_file():\n",
    "    print(f'The file {path_snc} already exists')\n",
    "    ds_hr_snc = xr.open_mfdataset(ldmz_output_path+'/ds_hr_snc.nc', parallel=True).snc.load()\n",
    "else:\n",
    "    print(f'The file {path_snc} does not exist')\n",
    "    print(f'Extracting the HR SNC data')\n",
    "    ds_hr_snc= xr.open_mfdataset(folder_name_HR_SRF + '/' + file_name_hr_snc, concat_dim ='time', combine='by_coords', parallel=True).sel(lat=slice(latlim_ext[0],latlim_ext[1]),lon=slice(lonlim_ext[0],lonlim_ext[1])).snc.load()\n",
    "    ds_hr_snc.to_netcdf(ldmz_output_path+'/ds_hr_snc.nc')"
   ]
  },
  {
   "cell_type": "code",
   "execution_count": 17,
   "metadata": {},
   "outputs": [
    {
     "name": "stdout",
     "output_type": "stream",
     "text": [
      "The file /data/xfain/LMDZ_CM6_ICO/ds_vhr_tas.nc already exists\n",
      "The file /data/xfain/LMDZ_CM6_ICO/ds_vhr_pr.nc already exists\n",
      "The file /data/xfain/LMDZ_CM6_ICO/ds_vhr_snc.nc already exists\n"
     ]
    }
   ],
   "source": [
    "#Open and combine all VHR dataset\n",
    "path_tas = Path(ldmz_output_path+'/ds_vhr_tas.nc')\n",
    "path_pr = Path(ldmz_output_path+'/ds_vhr_pr.nc')\n",
    "path_snc = Path(ldmz_output_path+'/ds_vhr_snc.nc')\n",
    "\n",
    "if path_tas.is_file():\n",
    "    print(f'The file {path_tas} already exists')\n",
    "    ds_vhr_tas = xr.open_mfdataset(ldmz_output_path+'/ds_vhr_tas.nc', parallel=True).tas.load()\n",
    "else:\n",
    "    print(f'The file {path_tas} does not exist')\n",
    "    print(f'Extracting the VHR TAS data')\n",
    "    ds_vhr_tas= xr.open_mfdataset(folder_name_VHR_ATM + '/' + file_name_vhr_tas, concat_dim ='time', combine='by_coords', parallel=True).sel(lat=slice(latlim_ext[0],latlim_ext[1]),lon=slice(lonlim_ext[0],lonlim_ext[1])).tas.load()\n",
    "    ds_vhr_tas.to_netcdf(ldmz_output_path+'/ds_vhr_tas.nc')\n",
    "    \n",
    "if path_pr.is_file():\n",
    "    print(f'The file {path_pr} already exists')\n",
    "    ds_vhr_pr = xr.open_mfdataset(ldmz_output_path+'/ds_vhr_pr.nc', parallel=True).pr.load()\n",
    "else:\n",
    "    print(f'The file {path_pr} does not exist')\n",
    "    print(f'Extracting the VHR PR data')\n",
    "    ds_vhr_pr= xr.open_mfdataset(folder_name_VHR_ATM + '/' + file_name_vhr_pr, concat_dim ='time', combine='by_coords', parallel=True).sel(lat=slice(latlim_ext[0],latlim_ext[1]),lon=slice(lonlim_ext[0],lonlim_ext[1])).pr.load()\n",
    "    ds_vhr_pr.to_netcdf(ldmz_output_path+'/ds_vhr_pr.nc')\n",
    "    \n",
    "if path_snc.is_file():\n",
    "    print(f'The file {path_snc} already exists')\n",
    "    ds_vhr_snc = xr.open_mfdataset(ldmz_output_path+'/ds_vhr_snc.nc', parallel=True).snc.load()\n",
    "else:\n",
    "    print(f'The file {path_snc} does not exist')\n",
    "    print(f'Extracting the VHR SNC data')\n",
    "    ds_vhr_snc= xr.open_mfdataset(folder_name_VHR_SRF + '/' + file_name_vhr_snc, concat_dim ='time', combine='by_coords', parallel=True).sel(lat=slice(latlim_ext[0],latlim_ext[1]),lon=slice(lonlim_ext[0],lonlim_ext[1])).snc.load()\n",
    "    ds_vhr_snc.to_netcdf(ldmz_output_path+'/ds_vhr_snc.nc')"
   ]
  },
  {
   "cell_type": "code",
   "execution_count": 18,
   "metadata": {
    "scrolled": true
   },
   "outputs": [],
   "source": [
    "ds_lr = xr.concat((ds_lr_tas-273.15, ds_lr_pr*86400, ds_lr_snc), pd.Index(list_var, name='var'))\n",
    "ds_mr = xr.concat((ds_mr_tas-273.15, ds_mr_pr*86400, ds_mr_snc), pd.Index(list_var, name='var'))\n",
    "ds_hr = xr.concat((ds_hr_tas-273.15, ds_hr_pr*86400, ds_hr_snc), pd.Index(list_var, name='var'))\n",
    "ds_vhr = xr.concat((ds_vhr_tas-273.15, ds_vhr_pr*86400, ds_vhr_snc), pd.Index(list_var, name='var'))\n",
    "    \n",
    "ds_list = [ds_lr, ds_mr, ds_hr, ds_vhr]"
   ]
  },
  {
   "cell_type": "markdown",
   "metadata": {},
   "source": [
    "## 3. Load Dynamico Orography"
   ]
  },
  {
   "cell_type": "code",
   "execution_count": 19,
   "metadata": {},
   "outputs": [],
   "source": [
    "#From https://github.com/mickaellalande/MC-Toolkit/blob/master/conda_environment_xarray_xesmf_proplot/xarray/quick-overview.ipynb\n",
    "def spatial_average(da):\n",
    "    coslat = np.cos(np.deg2rad(da.lat)).where(~da.isnull())\n",
    "    weights = coslat / coslat.sum(dim=('lat', 'lon'))\n",
    "    return (da * weights).sum(dim=('lat','lon'))"
   ]
  },
  {
   "cell_type": "code",
   "execution_count": 20,
   "metadata": {},
   "outputs": [],
   "source": [
    "file_name_lr_orog ='orog_fx_IPSL-CM6A-ATM-ICO-LR_highresSST-present_r1i1p1f1_gr.nc'\n",
    "file_name_mr_orog ='orog_fx_IPSL-CM6A-ATM-ICO-MR_highresSST-present_r1i1p1f1_gr.nc'\n",
    "file_name_hr_orog ='orog_fx_IPSL-CM6A-ATM-ICO-HR_highresSST-present_r1i1p1f1_gr.nc'\n",
    "file_name_vhr_orog ='orog_fx_IPSL-CM6A-ATM-ICO-VHR_highresSST-present_r1i1p1f1_gr.nc'"
   ]
  },
  {
   "cell_type": "code",
   "execution_count": 21,
   "metadata": {},
   "outputs": [],
   "source": [
    "ds_lr_orog= xr.open_mfdataset(folder_name_LR_ATM + '/' + file_name_lr_orog).sel(lat=slice(latlim_ext[0],latlim_ext[1]),lon=slice(lonlim_ext[0],lonlim_ext[1])).orog.load()\n",
    "ds_mr_orog= xr.open_mfdataset(folder_name_MR_ATM + '/' + file_name_mr_orog).sel(lat=slice(latlim_ext[0],latlim_ext[1]),lon=slice(lonlim_ext[0],lonlim_ext[1])).orog.load()\n",
    "ds_hr_orog= xr.open_mfdataset(folder_name_HR_ATM + '/' + file_name_hr_orog).sel(lat=slice(latlim_ext[0],latlim_ext[1]),lon=slice(lonlim_ext[0],lonlim_ext[1])).orog.load()\n",
    "ds_vhr_orog= xr.open_mfdataset(folder_name_VHR_ATM + '/' + file_name_vhr_orog).sel(lat=slice(latlim_ext[0],latlim_ext[1]),lon=slice(lonlim_ext[0],lonlim_ext[1])).orog.load()"
   ]
  },
  {
   "cell_type": "markdown",
   "metadata": {},
   "source": [
    "## 4. Compute snow duration calculations"
   ]
  },
  {
   "cell_type": "code",
   "execution_count": 22,
   "metadata": {},
   "outputs": [],
   "source": [
    "# Parameters to compute snow cover duration\n",
    "scf_threshold=0.1 #A cell is considered \"snow-covered\" if at least 10% of its surface is snow-covered.\n",
    "min_available_values=15 #ne s'applique pas à LMDZ\n",
    "min_available_values2=20 # Second value for testing/comparison\n",
    "\n",
    "# Defining the time for the monthly data\n",
    "first_year=1950# ds_lr_snc[0].time\n",
    "last_year=2013 #ds_lr_snc[-1].time\n",
    "#period = slice(str(first_year)+'-01-01',str(last_year)+'-12-31')\n",
    "\n",
    "months_per_year=12\n",
    "time_nbdays = pd.date_range(start=str(first_year)+'-01',end=str(last_year+1)+'-12',freq='M')\n",
    "reference_time = pd.Timestamp(str(first_year)+'-01')"
   ]
  },
  {
   "cell_type": "code",
   "execution_count": 23,
   "metadata": {},
   "outputs": [
    {
     "name": "stdout",
     "output_type": "stream",
     "text": [
      "The file /data/xfain/LMDZ_CM6_ICO/LMDZ_alpine_snow_nbdays.nc already exists\n"
     ]
    }
   ],
   "source": [
    "#nbdays = nombre de jours enneigés sur un mois\n",
    "\n",
    "# Initialise the array 12 month per year nbdays array\n",
    "path_nbdays = Path(ldmz_output_path+'/LMDZ_alpine_snow_nbdays.nc')\n",
    "if path_nbdays.is_file():\n",
    "    print(f'The file {path_nbdays} already exists')\n",
    "else:\n",
    "    print(f'The file {path_nbdays} does not exist')\n",
    "    ds_nbdays = xr.Dataset({\n",
    "        'nbdays': xr.DataArray(\n",
    "            data=np.full((ds_lr_snc.lat.shape[0],ds_lr_snc.lon.shape[0],time_nbdays.shape[0]), np.nan),\n",
    "            dims=[\"lat\", \"lon\", \"time\"],\n",
    "            coords=dict(\n",
    "                lat=([\"lat\"], ds_lr_snc.lat),\n",
    "                lon=([\"lon\"], ds_lr_snc.lon),\n",
    "                time=time_nbdays,\n",
    "                reference_time=reference_time,\n",
    "            ),\n",
    "            name='nbdays',\n",
    "            attrs=dict(\n",
    "                description=\"snow cover duration\",\n",
    "                units=\"days month-1\",\n",
    "            ),\n",
    "            ),\n",
    "        },\n",
    "        attrs = {'documentation': 'Snow cover duration from LDMZ-CM6-ICO snow cover fraction outputs.'}\n",
    "    )  "
   ]
  },
  {
   "cell_type": "code",
   "execution_count": 163,
   "metadata": {},
   "outputs": [],
   "source": [
    "year=1950\n",
    "for i in range(ds_lr_snc.time.size-1):\n",
    "    for imonth in range(1,13,1):\n",
    "        numday_month=cal.monthrange(year, imonth)[1]\n",
    "        temp =(str(year)+', month='+str(imonth)+', number of days='+str(numday_month))\n",
    "        #print(temp)\n",
    "    year=year+1\n",
    "        #print('year='+str(year)+', month='+str(imonth)+', number of days='+str(numday_month))"
   ]
  },
  {
   "cell_type": "code",
   "execution_count": 178,
   "metadata": {},
   "outputs": [
    {
     "ename": "SyntaxError",
     "evalue": "cannot assign to function call (<ipython-input-178-6dcc37290717>, line 37)",
     "output_type": "error",
     "traceback": [
      "\u001b[0;36m  File \u001b[0;32m\"<ipython-input-178-6dcc37290717>\"\u001b[0;36m, line \u001b[0;32m37\u001b[0m\n\u001b[0;31m    ds_nbdays.sel(time=str(year)+'-'+str(imonth)).nbdays[:,:,0].load()=xnbdays\u001b[0m\n\u001b[0m    ^\u001b[0m\n\u001b[0;31mSyntaxError\u001b[0m\u001b[0;31m:\u001b[0m cannot assign to function call\n"
     ]
    }
   ],
   "source": [
    "# nbdays calculation (From Martin)\n",
    "# 1. for each year and month, we select the gridcell with snc > threshold=0.1 (for which the gridcell is considered snow covered.\n",
    "# T2. sum the snow covered days for each month \n",
    "\n",
    "#on fait pas  les 3 étapes ci dessous:\n",
    "# where there is more than min_available_values (and min_available_values2 for comparison).\n",
    "# Finally, the total number of snow covered days is extrapolated at the monthly timescale,\n",
    "# extending the ratio (snow-covered days)/(number of days with available data) to the whole number of days in the month.\n",
    "\n",
    "\n",
    "path_nbdays = Path(ldmz_output_path+'/LMDZ_alpine_snow_nbdays.nc')\n",
    "#if path_nbdays.is_file():\n",
    "#    print(f'The file {path_nbdays} already exists')\n",
    "#    ds_nbdays = xr.open_mfdataset(ldmz_output_path+'/LMDZ_alpine_snow_nbdays.nc', parallel=True)\n",
    "#else:\n",
    "for iyear, year in enumerate(range(first_year, last_year+1, 1)):\n",
    "    print(year)\n",
    "    for imonth in range(1,months_per_year+1,1):\n",
    "        print(imonth)\n",
    "        numday_month=cal.monthrange(year, imonth)[1]\n",
    "#        print('year='+str(year)+', month='+str(imonth)+', number of days='+str(numday_month))\n",
    "        print('computing nbdays')\n",
    "        ds_tmp=ds_lr_snc.sel(time=str(year)+'-'+str(imonth))\n",
    "#        print(ds_tmp)\n",
    "        binary=xr.where(ds_tmp > scf_threshold, 1., 0.)\n",
    "        print(binary)\n",
    "        xnbdays=binary.sum(dim='time',skipna=True)\n",
    "        print(xnbdays)\n",
    "#        print(binary)\n",
    "#        binary=xr.where(xr.ufuncs.isnan(ds_tmp), np.nan, binary_tmp)\n",
    "#        xnbdays=binary.sum(dim='time')#,skipna=True)#,min_count=min_available_values)\n",
    "#        print(xnbdays)\n",
    "#            xnbdays2=binary.sum(dim='time',skipna=True,min_count=min_available_values2)\n",
    "#            cov=ds_lr_snc.coverage_interp.sel(time=str(year)+'-'+str(imonth)+'-01')\n",
    "#            xnbdays_filled=(xnbdays/cov)*numday_month\n",
    "#            ds_nbdays.sel(time=str(year)+'-'+str(imonth)).nbdays_filled[:,:,0]=xnbdays_filled\n",
    "        ds_nbdays.sel(time=str(year)+'-'+str(imonth)).nbdays[:,:,0]=xnbdays\n",
    "#            ds_nbdays.sel(time=str(year)+'-'+str(imonth)).nbdays2[:,:,0]=xnbdays2\n",
    "ds_nbdays.to_netcdf(ldmz_output_path+'/LMDZ_alpine_snow_nbdays.nc')"
   ]
  },
  {
   "cell_type": "code",
   "execution_count": null,
   "metadata": {},
   "outputs": [],
   "source": []
  },
  {
   "cell_type": "code",
   "execution_count": 107,
   "metadata": {},
   "outputs": [
    {
     "data": {
      "image/png": "[encoded data removed]",
      "text/plain": [
       "<Figure size 404.167x316.528 with 3 Axes>"
      ]
     },
     "metadata": {
      "image/png": {
       "height": 336,
       "width": 367
      }
     },
     "output_type": "display_data"
    }
   ],
   "source": [
    "# Check the result for one specific date\n",
    "time_check='2010-01'\n",
    "levels_nbdays=plot.arange(0,31,1)\n",
    "#levels_elev=plot.arange(0,1000,1000)\n",
    "cmap='GnBu'\n",
    "\n",
    "\n",
    "fig,axs = plot.subplots(nrows=1, ncols=1)\n",
    "axs[0,0].pcolormesh(ds_nbdays.nbdays.sel(time=time_check)[:,:,0], levels=levels_nbdays, cmap=cmap, colorbar='r', \n",
    "                    colorbar_kw={'label': 'Snow cover duration [days])})\n",
    "#axs[0,0].contour(dsi_topo.elevation, levels=levels_elev, color='gray8',labels=True,lw=1.2)\n",
    "\n",
    "axs.format(\n",
    "    suptitle='LMDZ-CM6-ICO, time='+time_check,\n",
    "    abc=True\n",
    ")\n",
    "\n"
   ]
  },
  {
   "cell_type": "code",
   "execution_count": null,
   "metadata": {},
   "outputs": [],
   "source": []
  }
 ],
 "metadata": {
  "kernelspec": {
   "display_name": "Python [conda env:phd_v3] *",
   "language": "python",
   "name": "conda-env-phd_v3-py"
  },
  "language_info": {
   "codemirror_mode": {
    "name": "ipython",
    "version": 3
   },
   "file_extension": ".py",
   "mimetype": "text/x-python",
   "name": "python",
   "nbconvert_exporter": "python",
   "pygments_lexer": "ipython3",
   "version": "3.8.5"
  }
 },
 "nbformat": 4,
 "nbformat_minor": 4
}
